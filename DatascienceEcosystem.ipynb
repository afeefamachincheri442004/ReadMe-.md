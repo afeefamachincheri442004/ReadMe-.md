{
 "cells": [
  {
   "cell_type": "markdown",
   "id": "93974cd0-595f-4fd4-acc2-f291cd7d06e6",
   "metadata": {},
   "source": [
    "# Data science Tools and Ecosystem"
   ]
  },
  {
   "cell_type": "markdown",
   "id": "82569d94-5bff-4910-8583-2bdd92ffd667",
   "metadata": {
    "tags": []
   },
   "source": [
    "In this notebook, Data science tools and Ecosystem are summerised"
   ]
  },
  {
   "cell_type": "markdown",
   "id": "ef535b1c-6300-42e4-bb70-3a82d601a782",
   "metadata": {},
   "source": [
    "Some of the popular languages that data scientist use are<br>\n",
    "1.python<br>\n",
    "2.R<br>\n",
    "3.SQL<br>\n",
    "4.C++<br>\n",
    "5.java\n"
   ]
  },
  {
   "cell_type": "markdown",
   "id": "b95a3819-84d7-46f3-9226-d9693dcfc3cd",
   "metadata": {},
   "source": [
    "some of the commonly used libraries by data scientist include <br>\n",
    "1.Tensor flow<br>\n",
    "2.NumPy<br>\n",
    "3.SciPy<br>\n",
    "4.Pandas\n",
    "5.Matplotlib<br>\n",
    "6.Keras<br>\n",
    "7.SciKit-learn<br>\n",
    "8.PyTorch"
   ]
  },
  {
   "cell_type": "markdown",
   "id": "673233e9-51c1-4ab8-a21d-960209608f77",
   "metadata": {},
   "source": [
    "|Data science Tools|\n",
    "|-----|\n",
    "|SAS|\n",
    "|Apache Hadoop|\n",
    "|TensorFlow|"
   ]
  },
  {
   "cell_type": "markdown",
   "id": "7a16d89b-8871-4973-af52-1404e903787c",
   "metadata": {},
   "source": [
    "### Below are a few example of evaluating arithmatic expression in python "
   ]
  },
  {
   "cell_type": "code",
   "execution_count": 2,
   "id": "d2ece108-4ba7-42ae-8599-d5d6fe918f41",
   "metadata": {
    "tags": []
   },
   "outputs": [
    {
     "data": {
      "text/plain": [
       "17"
      ]
     },
     "execution_count": 2,
     "metadata": {},
     "output_type": "execute_result"
    }
   ],
   "source": [
    "#this is a common arithmatic example to multiply and then add integer \n",
    "(3*4)+5"
   ]
  },
  {
   "cell_type": "code",
   "execution_count": 3,
   "id": "a98ae399-8674-490f-8e5e-ba145d25524a",
   "metadata": {
    "tags": []
   },
   "outputs": [
    {
     "data": {
      "text/plain": [
       "3.3333333333333335"
      ]
     },
     "execution_count": 3,
     "metadata": {},
     "output_type": "execute_result"
    }
   ],
   "source": [
    "#this will convert 200 minutes to hours by dividing by 60 \n",
    "200/60"
   ]
  },
  {
   "cell_type": "markdown",
   "id": "20d2c4f8-83de-4674-8843-116e4435cda5",
   "metadata": {},
   "source": [
    "__Objective__\n",
    "* list popular languages for data science \n",
    "* list popular libraries for data science \n",
    "* list of well known data science tools \n",
    "* how to provide comments in the cell"
   ]
  },
  {
   "cell_type": "markdown",
   "id": "d60bb083-d2f7-4c6b-9c4e-42e8582ac376",
   "metadata": {},
   "source": [
    "## Author\n",
    "afeefa machincheri"
   ]
  }
 ],
 "metadata": {
  "kernelspec": {
   "display_name": "Python",
   "language": "python",
   "name": "conda-env-python-py"
  },
  "language_info": {
   "codemirror_mode": {
    "name": "ipython",
    "version": 3
   },
   "file_extension": ".py",
   "mimetype": "text/x-python",
   "name": "python",
   "nbconvert_exporter": "python",
   "pygments_lexer": "ipython3",
   "version": "3.7.12"
  }
 },
 "nbformat": 4,
 "nbformat_minor": 5
}
